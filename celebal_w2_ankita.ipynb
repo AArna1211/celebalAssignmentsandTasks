{
  "nbformat": 4,
  "nbformat_minor": 0,
  "metadata": {
    "colab": {
      "provenance": []
    },
    "kernelspec": {
      "name": "python3",
      "display_name": "Python 3"
    },
    "language_info": {
      "name": "python"
    }
  },
  "cells": [
    {
      "cell_type": "code",
      "execution_count": 1,
      "metadata": {
        "id": "61oS07n7weoS"
      },
      "outputs": [],
      "source": [
        "#capitalize\n",
        "\n",
        "\n",
        "# Complete the solve function below.\n",
        "def solve(s):\n",
        "    while (len(s)>0 and len(s)<1000):\n",
        "        s1 = s.split(\" \")\n",
        "        x = \"\"\n",
        "        for a in s1:\n",
        "            x += a.capitalize() + \" \"\n",
        "        return x\n",
        ""
      ]
    },
    {
      "cell_type": "code",
      "source": [
        "#introduction to sets\n",
        "\n",
        "def average(array):\n",
        "    # your code goes here\n",
        "    s = set(array)\n",
        "    return f\"{sum(s)/len(s):.3f}\"\n",
        "\n"
      ],
      "metadata": {
        "id": "J8bDifQfxMSz"
      },
      "execution_count": null,
      "outputs": []
    },
    {
      "cell_type": "code",
      "source": [
        "# text wrap\n",
        "\n",
        "\n",
        "def wrap(string, max_width):\n",
        "    return '\\n'.join(textwrap.wrap(string, max_width))\n"
      ],
      "metadata": {
        "id": "pj6Rc2HKxUDh"
      },
      "execution_count": null,
      "outputs": []
    },
    {
      "cell_type": "code",
      "source": [
        "# alphabet rangoli\n",
        "\n",
        "def print_rangoli(size):\n",
        "    letters = [chr(i) for i in range(97, 123)]\n",
        "    rev = list(reversed(letters[:size]))\n",
        "    a, b, c = [], [], []\n",
        "    r = (4*size)-3\n",
        "    for j in range(size):\n",
        "        a.append(rev[j])\n",
        "        b = a.copy()\n",
        "        b.pop()\n",
        "        b = list(reversed(b))\n",
        "        s = a+b\n",
        "        t = \"-\".join(s)\n",
        "        p = t.center(r, \"-\")\n",
        "        c.append(p)\n",
        "        print(p)\n",
        "        if j == size-1:\n",
        "            c = list(reversed(c))\n",
        "            c.pop(0)\n",
        "            c = \"\\n\".join(c)\n",
        "            print(c)\n",
        "\n",
        "\n"
      ],
      "metadata": {
        "id": "M1LCYZ3YxiZV"
      },
      "execution_count": null,
      "outputs": []
    },
    {
      "cell_type": "code",
      "source": [
        "# merge the tools\n",
        "\n",
        "def merge_the_tools(string, k):\n",
        "    # your code goes here\n",
        "    n= len(string)\n",
        "    for i in range(0, n, k):\n",
        "        substr = []\n",
        "        for j in range(i, i+k):\n",
        "            if string[j] not in substr:\n",
        "                substr.append(string[j])\n",
        "        print(''.join(substr))\n",
        "\n"
      ],
      "metadata": {
        "id": "kYjKyunbxuLB"
      },
      "execution_count": null,
      "outputs": []
    },
    {
      "cell_type": "code",
      "source": [
        "# collections counter\n",
        "\n",
        "# Enter your code here. Read input from STDIN. Print output to STDOUT\n",
        "from collections import Counter\n",
        "X = input()\n",
        "S = list(map(int, input().split()))\n",
        "S = Counter(S)\n",
        "n = int((input()))\n",
        "\n",
        "price = 0\n",
        "for i in range(n):\n",
        "    customer = list(map(int, input().split()))\n",
        "    if customer[0] in S:\n",
        "        price += customer[1]\n",
        "        S[customer[0]] -= 1\n",
        "    if S[customer[0]] == 0:\n",
        "        del S[customer[0]]\n",
        "print(price)\n"
      ],
      "metadata": {
        "id": "hVhKnWCNx3Yy"
      },
      "execution_count": null,
      "outputs": []
    },
    {
      "cell_type": "code",
      "source": [
        "#exceptions\n",
        "\n",
        "# Enter your code here. Read input from STDIN. Print output to STDOUT\n",
        "size = int(input())\n",
        "\n",
        "for i in range(size):\n",
        "    try:\n",
        "        a,b = map(int, input().split())\n",
        "        print(a//b)\n",
        "    except Exception as e:\n",
        "        print(\"Error Code:\", e)\n"
      ],
      "metadata": {
        "id": "J3AstFJZyEDH"
      },
      "execution_count": null,
      "outputs": []
    },
    {
      "cell_type": "code",
      "source": [
        "#incorrect regex\n",
        "\n",
        "# Enter your code here. Read input from STDIN. Print output to STDOUT\n",
        "import re\n",
        "\n",
        "for i in range(int(input())):\n",
        "    try:\n",
        "        re.compile(input())\n",
        "        print(\"True\")\n",
        "    except re.error:\n",
        "        print(\"False\")\n"
      ],
      "metadata": {
        "id": "nWAWizoxyPok"
      },
      "execution_count": null,
      "outputs": []
    },
    {
      "cell_type": "code",
      "source": [
        "#set discard remove pop\n",
        "\n",
        "n = int(input())\n",
        "s = set(map(int, input().split()))\n",
        "N = int(input())\n",
        "for i in range(N):\n",
        "    command = input().split()\n",
        "    if len(command) == 1:\n",
        "        getattr(s, command[0])()\n",
        "    else:\n",
        "        getattr(s, command[0])(int(command[1]))\n",
        "print(sum(s))\n"
      ],
      "metadata": {
        "id": "CTXwS3jzyZM9"
      },
      "execution_count": null,
      "outputs": []
    }
  ]
}