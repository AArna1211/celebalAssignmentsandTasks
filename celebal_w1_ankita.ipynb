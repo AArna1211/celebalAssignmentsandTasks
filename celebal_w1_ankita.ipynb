{
  "nbformat": 4,
  "nbformat_minor": 0,
  "metadata": {
    "colab": {
      "provenance": []
    },
    "kernelspec": {
      "name": "python3",
      "display_name": "Python 3"
    },
    "language_info": {
      "name": "python"
    }
  },
  "cells": [
    {
      "cell_type": "code",
      "execution_count": 1,
      "metadata": {
        "colab": {
          "base_uri": "https://localhost:8080/"
        },
        "id": "5LHhvVbts0uh",
        "outputId": "9406205f-2306-44d7-c237-8795fee82e05"
      },
      "outputs": [
        {
          "output_type": "stream",
          "name": "stdout",
          "text": [
            "4\n",
            "5\n",
            "9\n",
            "-1\n",
            "20\n"
          ]
        }
      ],
      "source": [
        "#arithmatic operators\n",
        "\n",
        "if __name__ == '__main__':\n",
        "    a = int(input())\n",
        "    b = int(input())\n",
        "    print(a+b)\n",
        "    print(a-b)\n",
        "    print(a*b)"
      ]
    },
    {
      "cell_type": "code",
      "source": [
        "#compress the string\n",
        "\n",
        "# Enter your code here. Read input from STDIN. Print output to STDOUT\n",
        "from itertools import groupby\n",
        "\n",
        "for number, lst in groupby(input()):\n",
        "    print(f\"({len(list(lst))}, {number})\", end=\" \")\n"
      ],
      "metadata": {
        "colab": {
          "base_uri": "https://localhost:8080/"
        },
        "id": "8GG3iuaGs6Vh",
        "outputId": "30e78b12-e56e-4a33-8077-65c48581d125"
      },
      "execution_count": 2,
      "outputs": [
        {
          "output_type": "stream",
          "name": "stdout",
          "text": [
            "1222311\n",
            "(1, 1) (3, 2) (1, 3) (2, 1) "
          ]
        }
      ]
    },
    {
      "cell_type": "code",
      "source": [
        "#minion game\n",
        "\n",
        "def minion_game(string):\n",
        "    vow=0\n",
        "    cons=0\n",
        "    for i in range(len(string)):\n",
        "        if string[i] in [\"A\",\"E\",\"I\",\"O\",\"U\"]:\n",
        "            vow+=len(string)-i\n",
        "        else:\n",
        "            cons+=len(string)-i\n",
        "\n",
        "    if cons>vow:\n",
        "        print(\"Stuart\" ,cons)\n",
        "    elif vow>cons:\n",
        "        print(\"Kevin\" ,vow)\n",
        "    else:\n",
        "        print(\"Draw\")\n",
        "\n",
        "    # your code goes here\n",
        "\n"
      ],
      "metadata": {
        "id": "LuWzk5QEtIPH"
      },
      "execution_count": 9,
      "outputs": []
    },
    {
      "cell_type": "code",
      "source": [
        "# write a function\n",
        "\n",
        "def is_leap(year):\n",
        "    leap = False\n",
        "    if(year%400 == 0 or year%100 != 0 and year%4 == 0):\n",
        "        leap = True\n",
        "    # Write your logic here\n",
        "\n",
        "    return leap\n",
        "\n"
      ],
      "metadata": {
        "id": "MJw3rTVttX8u"
      },
      "execution_count": 8,
      "outputs": []
    },
    {
      "cell_type": "code",
      "source": [
        "#iterables and iterator\n",
        "\n",
        "# Enter your code here. Read input from STDIN. Print output to STDOUT\n",
        "from itertools import combinations\n",
        "N=int(input())\n",
        "l=list(input().split())\n",
        "K=int(input())\n",
        "comb=list(combinations(l,K))\n",
        "r=[i for i in comb if 'a' in i]\n",
        "print(len(r)/len(comb))\n"
      ],
      "metadata": {
        "colab": {
          "base_uri": "https://localhost:8080/"
        },
        "id": "JbAS44UktrD4",
        "outputId": "7e85b723-87cf-405d-9cae-79e68b47fbb8"
      },
      "execution_count": 7,
      "outputs": [
        {
          "output_type": "stream",
          "name": "stdout",
          "text": [
            "4\n",
            "a a c d\n",
            "2\n",
            "0.8333333333333334\n"
          ]
        }
      ]
    },
    {
      "cell_type": "code",
      "source": [
        "#tuples\n",
        "\n",
        "if __name__ == '__main__':\n",
        "    n = int(input())\n",
        "    integer_list = map(int, input().split())\n",
        "    t = tuple(integer_list)\n",
        "    print(hash(t))\n"
      ],
      "metadata": {
        "colab": {
          "base_uri": "https://localhost:8080/"
        },
        "id": "H6Zz5fibt1OK",
        "outputId": "27a67f05-2c2e-4ba1-a9a2-6a0ce44d4573"
      },
      "execution_count": 5,
      "outputs": [
        {
          "output_type": "stream",
          "name": "stdout",
          "text": [
            "2\n",
            "1 2\n",
            "-3550055125485641917\n"
          ]
        }
      ]
    },
    {
      "cell_type": "code",
      "source": [
        "#find the percentage\n",
        "if __name__ == '__main__':\n",
        "    n = int(input())\n",
        "    student_marks = {}\n",
        "    for _ in range(n):\n",
        "        name, *line = input().split()\n",
        "        scores = list(map(float, line))\n",
        "        student_marks[name]= scores\n",
        "    query_name = input()\n",
        "    #print(student_marks)\n",
        "\n",
        "    marks = []\n",
        "    for name in student_marks:\n",
        "        if(name == query_name):\n",
        "            marks = student_marks[name]\n",
        "    #print(marks)\n",
        "\n",
        "    m = sum(marks)\n",
        "    #for x in marks:\n",
        "    #    avg += x\n",
        "\n",
        "    avg = (m / len(marks))\n",
        "\n",
        "    print('%0.2f' % avg)\n"
      ],
      "metadata": {
        "colab": {
          "base_uri": "https://localhost:8080/"
        },
        "id": "3uXjzdWIt-lA",
        "outputId": "cee6938b-49d0-4daf-c91c-4fb2b5bc4d69"
      },
      "execution_count": 4,
      "outputs": [
        {
          "output_type": "stream",
          "name": "stdout",
          "text": [
            "3\n",
            "Krishna 67 68 69\n",
            "Arjun 70 98 63\n",
            "Malika 52 56 60\n",
            "Malika\n",
            "56.00\n"
          ]
        }
      ]
    },
    {
      "cell_type": "code",
      "source": [
        "#python string format\n",
        "\n",
        "def print_formatted(number):\n",
        "\n",
        "    width = len(str(format(number, 'b')))\n",
        "    types = [\"d\", \"o\", \"X\", \"b\"]\n",
        "    for i in range(1, number+1):\n",
        "        for k in types:\n",
        "            print(str(format(i, k)).rjust(width, \" \"),end = \" \")\n",
        "        print()\n",
        "    # your code goes here\n",
        "\n"
      ],
      "metadata": {
        "id": "vzg2hqvyuI47"
      },
      "execution_count": 3,
      "outputs": []
    }
  ]
}